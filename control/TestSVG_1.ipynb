{
 "cells": [
  {
   "cell_type": "code",
   "execution_count": 1,
   "metadata": {},
   "outputs": [],
   "source": [
    "import drawSvg as draw"
   ]
  },
  {
   "cell_type": "markdown",
   "metadata": {},
   "source": [
    "# Circle"
   ]
  },
  {
   "cell_type": "code",
   "execution_count": 3,
   "metadata": {},
   "outputs": [
    {
     "data": {
      "image/svg+xml": [
       "<?xml version=\"1.0\" encoding=\"UTF-8\"?>\n",
       "<svg xmlns=\"http://www.w3.org/2000/svg\" xmlns:xlink=\"http://www.w3.org/1999/xlink\"\n",
       "     width=\"200\" height=\"100\" viewBox=\"-100.0 -50.0 200 100\">\n",
       "<defs>\n",
       "</defs>\n",
       "<circle cx=\"-40\" cy=\"10\" r=\"30\" fill=\"red\" stroke-width=\"2\" stroke=\"black\" />\n",
       "</svg>"
      ],
      "text/plain": [
       "<drawSvg.drawing.Drawing at 0x7f3e20420518>"
      ]
     },
     "execution_count": 3,
     "metadata": {},
     "output_type": "execute_result"
    }
   ],
   "source": [
    "d = draw.Drawing(200, 100, origin=\"center\")\n",
    "circle = draw.Circle(-40, -10, 30, fill=\"red\", stroke_width=2, stroke=\"black\")\n",
    "d.append(circle)\n",
    "d"
   ]
  },
  {
   "cell_type": "markdown",
   "metadata": {},
   "source": [
    "# Rectangle"
   ]
  },
  {
   "cell_type": "code",
   "execution_count": 15,
   "metadata": {},
   "outputs": [
    {
     "data": {
      "image/svg+xml": [
       "<?xml version=\"1.0\" encoding=\"UTF-8\"?>\n",
       "<svg xmlns=\"http://www.w3.org/2000/svg\" xmlns:xlink=\"http://www.w3.org/1999/xlink\"\n",
       "     width=\"200\" height=\"200\" viewBox=\"-100.0 -100.0 200 200\">\n",
       "<defs>\n",
       "</defs>\n",
       "<rect x=\"-10\" y=\"-90\" width=\"100\" height=\"100\" fill=\"#1248ff\" stroke=\"black\" stroke-width=\"2\" />\n",
       "</svg>"
      ],
      "text/plain": [
       "<drawSvg.drawing.Drawing at 0x7f3e201b07f0>"
      ]
     },
     "execution_count": 15,
     "metadata": {},
     "output_type": "execute_result"
    }
   ],
   "source": [
    "d = draw.Drawing(200, 200, origin=\"center\")\n",
    "rect = draw.Rectangle(-10,-10,100,100, fill='#1248ff', stroke=\"black\", stroke_width=2)\n",
    "d.append(rect)\n",
    "d"
   ]
  },
  {
   "cell_type": "markdown",
   "metadata": {},
   "source": [
    "# Lines"
   ]
  },
  {
   "cell_type": "code",
   "execution_count": 17,
   "metadata": {},
   "outputs": [
    {
     "data": {
      "image/svg+xml": [
       "<?xml version=\"1.0\" encoding=\"UTF-8\"?>\n",
       "<svg xmlns=\"http://www.w3.org/2000/svg\" xmlns:xlink=\"http://www.w3.org/1999/xlink\"\n",
       "     width=\"200\" height=\"200\" viewBox=\"-100.0 -100.0 200 200\">\n",
       "<defs>\n",
       "</defs>\n",
       "<path d=\"M-80,45 L70,49 L95,-49 L-90,-50\" fill=\"#eeee00\" stroke=\"green\" />\n",
       "</svg>"
      ],
      "text/plain": [
       "<drawSvg.drawing.Drawing at 0x7f3e20186cc0>"
      ]
     },
     "execution_count": 17,
     "metadata": {},
     "output_type": "execute_result"
    }
   ],
   "source": [
    "d = draw.Drawing(200, 200, origin=\"center\")\n",
    "lines = draw.Lines(-80, -45, 70, -49,\n",
    "                    95, 49, -90, 50,\n",
    "                    close=False, fill=\"#eeee00\", stroke=\"green\")\n",
    "d.append(lines)\n",
    "d"
   ]
  },
  {
   "cell_type": "code",
   "execution_count": 23,
   "metadata": {},
   "outputs": [
    {
     "data": {
      "image/svg+xml": [
       "<?xml version=\"1.0\" encoding=\"UTF-8\"?>\n",
       "<svg xmlns=\"http://www.w3.org/2000/svg\" xmlns:xlink=\"http://www.w3.org/1999/xlink\"\n",
       "     width=\"200\" height=\"200\" viewBox=\"-100.0 -100.0 200 200\">\n",
       "<defs>\n",
       "</defs>\n",
       "<path d=\"M0,0 L100,-100 L-100,-100 L-100,100 L100,100 L100,0\" fill=\"#eeee00\" stroke=\"green\" />\n",
       "</svg>"
      ],
      "text/plain": [
       "<drawSvg.drawing.Drawing at 0x7f3e20195e48>"
      ]
     },
     "execution_count": 23,
     "metadata": {},
     "output_type": "execute_result"
    }
   ],
   "source": [
    "d = draw.Drawing(200, 200, origin=\"center\")\n",
    "lines = draw.Lines(0, 0, 100, 100, -100, 100, -100, -100,\n",
    "                  100, -100, 100, 0,\n",
    "                    close=False, fill=\"#eeee00\", stroke=\"green\")\n",
    "d.append(lines)\n",
    "d"
   ]
  },
  {
   "cell_type": "markdown",
   "metadata": {},
   "source": [
    "# Path"
   ]
  },
  {
   "cell_type": "code",
   "execution_count": 24,
   "metadata": {},
   "outputs": [
    {
     "data": {
      "image/svg+xml": [
       "<?xml version=\"1.0\" encoding=\"UTF-8\"?>\n",
       "<svg xmlns=\"http://www.w3.org/2000/svg\" xmlns:xlink=\"http://www.w3.org/1999/xlink\"\n",
       "     width=\"200\" height=\"200\" viewBox=\"-100.0 -100.0 200 200\">\n",
       "<defs>\n",
       "</defs>\n",
       "<path d=\"M-30,-5 l60,-30 h-70 Z\" stroke-width=\"2\" stroke=\"green\" fill=\"black\" fill-opacity=\"0.5\" />\n",
       "</svg>"
      ],
      "text/plain": [
       "<drawSvg.drawing.Drawing at 0x7f3e20195a20>"
      ]
     },
     "execution_count": 24,
     "metadata": {},
     "output_type": "execute_result"
    }
   ],
   "source": [
    "d = draw.Drawing(200, 200, origin=\"center\")\n",
    "p = draw.Path(stroke_width=2, stroke='green',\n",
    "              fill='black', fill_opacity=0.5)\n",
    "p.M(-30,5)  # Start path at point (-30, 5)\n",
    "p.l(60,30)  # Draw line to (60, 30)\n",
    "p.h(-70)    # Draw horizontal line to x=-70\n",
    "p.Z()       # Draw line to start\n",
    "d.append(p)\n",
    "d"
   ]
  },
  {
   "cell_type": "code",
   "execution_count": null,
   "metadata": {},
   "outputs": [],
   "source": []
  },
  {
   "cell_type": "code",
   "execution_count": null,
   "metadata": {},
   "outputs": [],
   "source": []
  },
  {
   "cell_type": "markdown",
   "metadata": {},
   "source": [
    "# Contoh 1"
   ]
  },
  {
   "cell_type": "code",
   "execution_count": 4,
   "metadata": {},
   "outputs": [
    {
     "data": {
      "image/svg+xml": [
       "<?xml version=\"1.0\" encoding=\"UTF-8\"?>\n",
       "<svg xmlns=\"http://www.w3.org/2000/svg\" xmlns:xlink=\"http://www.w3.org/1999/xlink\"\n",
       "     width=\"400\" height=\"200\" viewBox=\"-100.0 -50.0 200 100\">\n",
       "<defs>\n",
       "</defs>\n",
       "<path d=\"M-80,45 L70,49 L95,-49 L-90,-50\" fill=\"#eeee00\" stroke=\"green\" />\n",
       "<rect x=\"0\" y=\"-50\" width=\"40\" height=\"50\" fill=\"#1248ff\" />\n",
       "<circle cx=\"-40\" cy=\"10\" r=\"30\" fill=\"red\" stroke-width=\"2\" stroke=\"black\" />\n",
       "<path d=\"M-30,-5 l60,-30 h-70 Z\" stroke-width=\"2\" stroke=\"green\" fill=\"black\" fill-opacity=\"0.5\" />\n",
       "<circle cx=\"60\" cy=\"20\" r=\"20\" stroke-dasharray=\"73.30382858376184 52.35987755982988\" stroke-dashoffset=\"-31.41592653589793\" stroke=\"red\" stroke-width=\"5\" fill=\"red\" fill-opacity=\"0.2\" />\n",
       "<path d=\"M70.0,2.679491924311229 A20,20,0,1,0,59.99999999999999,40.0\" stroke=\"green\" stroke-width=\"3\" fill=\"none\" />\n",
       "<path d=\"M59.99999999999999,40.0 A20,20,0,1,1,70.0,2.679491924311229\" stroke=\"blue\" stroke-width=\"1\" fill=\"black\" fill-opacity=\"0.3\" />\n",
       "</svg>"
      ],
      "text/plain": [
       "<drawSvg.drawing.Drawing at 0x7f29393889b0>"
      ]
     },
     "execution_count": 4,
     "metadata": {},
     "output_type": "execute_result"
    }
   ],
   "source": [
    "d.append(draw.Lines(-80, -45,\n",
    "                    70, -49,\n",
    "                    95, 49,\n",
    "                    -90, 50,\n",
    "                    close=False,\n",
    "            fill='#eeee00',\n",
    "            stroke='green'))\n",
    "\n",
    "d.append(draw.Rectangle(0,0,40,50, fill='#1248ff'))\n",
    "d.append(draw.Circle(-40, -10, 30,\n",
    "            fill='red', stroke_width=2, stroke='black'))\n",
    "\n",
    "p = draw.Path(stroke_width=2, stroke='green',\n",
    "              fill='black', fill_opacity=0.5)\n",
    "p.M(-30,5)  # Start path at point (-30, 5)\n",
    "p.l(60,30)  # Draw line to (60, 30)\n",
    "p.h(-70)    # Draw horizontal line to x=-70\n",
    "p.Z()       # Draw line to start\n",
    "d.append(p)\n",
    "\n",
    "d.append(draw.ArcLine(60,-20,20,60,270,\n",
    "            stroke='red', stroke_width=5, fill='red', fill_opacity=0.2))\n",
    "d.append(draw.Arc(60,-20,20,60,270,cw=False,\n",
    "            stroke='green', stroke_width=3, fill='none'))\n",
    "d.append(draw.Arc(60,-20,20,270,60,cw=True,\n",
    "            stroke='blue', stroke_width=1, fill='black', fill_opacity=0.3))\n",
    "\n",
    "d.setPixelScale(2)  # Set number of pixels per geometry unit\n",
    "#d.setRenderSize(400,200)  # Alternative to setPixelScale\n",
    "d.saveSvg('TEMP_example.svg')\n",
    "d.savePng('TEMP_example.png')\n",
    "\n",
    "# Display in iPython notebook\n",
    "d.rasterize()  # Display as PNG\n",
    "d  # Display as SVG"
   ]
  },
  {
   "cell_type": "code",
   "execution_count": null,
   "metadata": {},
   "outputs": [],
   "source": []
  },
  {
   "cell_type": "code",
   "execution_count": null,
   "metadata": {},
   "outputs": [],
   "source": []
  },
  {
   "cell_type": "code",
   "execution_count": null,
   "metadata": {},
   "outputs": [],
   "source": []
  }
 ],
 "metadata": {
  "kernelspec": {
   "display_name": "Python 3",
   "language": "python",
   "name": "python3"
  },
  "language_info": {
   "codemirror_mode": {
    "name": "ipython",
    "version": 3
   },
   "file_extension": ".py",
   "mimetype": "text/x-python",
   "name": "python",
   "nbconvert_exporter": "python",
   "pygments_lexer": "ipython3",
   "version": "3.7.3"
  }
 },
 "nbformat": 4,
 "nbformat_minor": 2
}
