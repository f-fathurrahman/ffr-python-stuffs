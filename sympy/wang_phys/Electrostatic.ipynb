{
 "cells": [
  {
   "cell_type": "code",
   "execution_count": 1,
   "metadata": {},
   "outputs": [
    {
     "name": "stdout",
     "output_type": "stream",
     "text": [
      "Ez = \n",
      "L*lambda/(z1**2*sqrt(L**2/z1**2 + 1))\n",
      "Ex = \n",
      "-9.50062383056108⋅λ\n"
     ]
    }
   ],
   "source": [
    "%run worksheet_6_1.py"
   ]
  },
  {
   "cell_type": "code",
   "execution_count": 2,
   "metadata": {},
   "outputs": [
    {
     "data": {
      "image/png": "[encoded data removed]",
      "text/latex": [
       "$\\displaystyle \\frac{L \\lambda}{z_{1}^{2} \\sqrt{\\frac{L^{2}}{z_{1}^{2}} + 1}}$"
      ],
      "text/plain": [
       "        L⋅λ        \n",
       "───────────────────\n",
       "          _________\n",
       "         ╱   2     \n",
       "  2     ╱   L      \n",
       "z₁ ⋅   ╱   ─── + 1 \n",
       "      ╱      2     \n",
       "    ╲╱     z₁      "
      ]
     },
     "execution_count": 2,
     "metadata": {},
     "output_type": "execute_result"
    }
   ],
   "source": [
    "Ez"
   ]
  }
 ],
 "metadata": {
  "kernelspec": {
   "display_name": "Python 3",
   "language": "python",
   "name": "python3"
  },
  "language_info": {
   "codemirror_mode": {
    "name": "ipython",
    "version": 3
   },
   "file_extension": ".py",
   "mimetype": "text/x-python",
   "name": "python",
   "nbconvert_exporter": "python",
   "pygments_lexer": "ipython3",
   "version": "3.8.5"
  }
 },
 "nbformat": 4,
 "nbformat_minor": 4
}
